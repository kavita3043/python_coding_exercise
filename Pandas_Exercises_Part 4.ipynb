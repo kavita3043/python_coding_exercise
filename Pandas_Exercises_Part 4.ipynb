{
 "cells": [
  {
   "cell_type": "code",
   "execution_count": 1,
   "metadata": {},
   "outputs": [],
   "source": [
    "import pandas as pd\n",
    "d={'name':['Kavi Gupta','mahi Jain','ravi bansal','savi chopra','navi jindal'],'code':['23D','41','26E','44 A','12'],'attempts':[2,1,3,1,2],'qualify':['yes','no','no','yes','yes']}\n",
    "\n",
    "df=pd.DataFrame(d)\n",
    "df"
   ]
  },
  {
   "cell_type": "code",
   "execution_count": 2,
   "metadata": {},
   "outputs": [],
   "source": [
    "#remove whitespaces, left sided whitespaces and right sided whitespaces of the string values of a given pandas series.\n",
    "fruits=pd.Index(['banana',' orange','papaya ',' grapes '])\n",
    "fruits\n",
    "\n",
    "fruits.str.strip()\n",
    "fruits.str.lstrip()\n",
    "fruits.str.rstrip()"
   ]
  },
  {
   "cell_type": "code",
   "execution_count": 3,
   "metadata": {},
   "outputs": [],
   "source": [
    "#capitalize all the string values of specified columns of a given DataFrame.\n",
    "df['name']=list(map(lambda x:x.upper(),df['name']))\n",
    "df"
   ]
  },
  {
   "cell_type": "code",
   "execution_count": 4,
   "metadata": {},
   "outputs": [
    {
     "data": {
      "text/plain": [
       "0    1\n",
       "1    0\n",
       "2    0\n",
       "3    1\n",
       "4    1\n",
       "Name: qualify, dtype: int64"
      ]
     },
     "execution_count": 4,
     "metadata": {},
     "output_type": "execute_result"
    }
   ],
   "source": [
    "#count of occurrence of a specified substring in a DataFrame column.\n",
    "df['qualify'].apply(lambda x: x.count('e'))\n"
   ]
  },
  {
   "cell_type": "code",
   "execution_count": 5,
   "metadata": {},
   "outputs": [
    {
     "data": {
      "text/plain": [
       "[False, True, False, False, True]"
      ]
     },
     "execution_count": 5,
     "metadata": {},
     "output_type": "execute_result"
    }
   ],
   "source": [
    "#check whether only numeric values present in a given column of a DataFrame.\n",
    "list(map(lambda x:x.isdigit(),df['code']))"
   ]
  },
  {
   "cell_type": "code",
   "execution_count": 6,
   "metadata": {},
   "outputs": [
    {
     "data": {
      "text/plain": [
       "[False, False, False, False, False]"
      ]
     },
     "execution_count": 6,
     "metadata": {},
     "output_type": "execute_result"
    }
   ],
   "source": [
    "#check whether only lower case, upper case or title case is present in a given column of a DataFrame.\n",
    "list(map(lambda x:x.isupper(),df['name']))\n",
    "list(map(lambda x:x.islower(),df['name']))\n",
    "list(map(lambda x:x.istitle(),df['name']))"
   ]
  },
  {
   "cell_type": "code",
   "execution_count": 7,
   "metadata": {},
   "outputs": [
    {
     "data": {
      "text/plain": [
       "0    3\n",
       "1    2\n",
       "2    3\n",
       "3    4\n",
       "4    2\n",
       "Name: code, dtype: int64"
      ]
     },
     "execution_count": 7,
     "metadata": {},
     "output_type": "execute_result"
    }
   ],
   "source": [
    "#get the length of the string present of a given column in a DataFrame.\n",
    "df['code'].str.len()"
   ]
  },
  {
   "cell_type": "code",
   "execution_count": 8,
   "metadata": {},
   "outputs": [
    {
     "data": {
      "text/plain": [
       "0    1\n",
       "1    1\n",
       "2    1\n",
       "3    1\n",
       "4    1\n",
       "Name: attempts, dtype: int64"
      ]
     },
     "execution_count": 8,
     "metadata": {},
     "output_type": "execute_result"
    }
   ],
   "source": [
    "#get the length of the integer of a given column in a DataFrame.\n",
    "df['attempts'].map(str).apply(len)"
   ]
  },
  {
   "cell_type": "code",
   "execution_count": 9,
   "metadata": {},
   "outputs": [
    {
     "data": {
      "text/plain": [
       "[True, False, False, False, False]"
      ]
     },
     "execution_count": 9,
     "metadata": {},
     "output_type": "execute_result"
    }
   ],
   "source": [
    "#check if a specified column starts with a specified string in a DataFrame.\n",
    "list(map(lambda x:x.startswith('K'),df['name']))"
   ]
  },
  {
   "cell_type": "code",
   "execution_count": 10,
   "metadata": {},
   "outputs": [
    {
     "data": {
      "text/plain": [
       "['Kavi Gupta', 'Mahi Jain', 'Ravi Bansal', 'Savi Chopra', 'Navi Jindal']"
      ]
     },
     "execution_count": 10,
     "metadata": {},
     "output_type": "execute_result"
    }
   ],
   "source": [
    "#convert a specified character column in upper/lower/title cases in a given DataFrame.\n",
    "list(map(lambda x: x.upper(),df['name']))\n",
    "list(map(lambda x: x.lower(),df['name']))\n",
    "list(map(lambda x: x.title(),df['name']))"
   ]
  },
  {
   "cell_type": "code",
   "execution_count": 11,
   "metadata": {},
   "outputs": [
    {
     "data": {
      "text/plain": [
       "0     KAVI GUPTA\n",
       "1      MAHI JAIN\n",
       "2    RAVI BANSAL\n",
       "3    SAVI CHOPRA\n",
       "4    NAVI JINDAL\n",
       "Name: name, dtype: object"
      ]
     },
     "execution_count": 11,
     "metadata": {},
     "output_type": "execute_result"
    }
   ],
   "source": [
    "#replace arbitrary values with other values in a given DataFrame.\n",
    "df['name'].replace('KAVI','Tavi')"
   ]
  },
  {
   "cell_type": "code",
   "execution_count": 12,
   "metadata": {},
   "outputs": [
    {
     "data": {
      "text/plain": [
       "0     KAVI GUPTA\n",
       "1      MAHI JAIN\n",
       "2    RAVI BANSAL\n",
       "3    SAVI CHOPRA\n",
       "4    NAVI JINDAL\n",
       "Name: name, dtype: object"
      ]
     },
     "execution_count": 12,
     "metadata": {},
     "output_type": "execute_result"
    }
   ],
   "source": [
    "#replace more than one value with other values in a given DataFrame.\n",
    "df['name'].replace(['KAVI','MAHI'],['ZAVI','GAVI'])"
   ]
  },
  {
   "cell_type": "code",
   "execution_count": 13,
   "metadata": {},
   "outputs": [
    {
     "data": {
      "text/html": [
       "<div>\n",
       "<style scoped>\n",
       "    .dataframe tbody tr th:only-of-type {\n",
       "        vertical-align: middle;\n",
       "    }\n",
       "\n",
       "    .dataframe tbody tr th {\n",
       "        vertical-align: top;\n",
       "    }\n",
       "\n",
       "    .dataframe thead th {\n",
       "        text-align: right;\n",
       "    }\n",
       "</style>\n",
       "<table border=\"1\" class=\"dataframe\">\n",
       "  <thead>\n",
       "    <tr style=\"text-align: right;\">\n",
       "      <th></th>\n",
       "      <th>code</th>\n",
       "      <th>attempts</th>\n",
       "      <th>qualify</th>\n",
       "      <th>first_name</th>\n",
       "      <th>last_name</th>\n",
       "    </tr>\n",
       "  </thead>\n",
       "  <tbody>\n",
       "    <tr>\n",
       "      <th>0</th>\n",
       "      <td>23D</td>\n",
       "      <td>2</td>\n",
       "      <td>yes</td>\n",
       "      <td>KAVI</td>\n",
       "      <td>GUPTA</td>\n",
       "    </tr>\n",
       "    <tr>\n",
       "      <th>1</th>\n",
       "      <td>41</td>\n",
       "      <td>1</td>\n",
       "      <td>no</td>\n",
       "      <td>MAHI</td>\n",
       "      <td>JAIN</td>\n",
       "    </tr>\n",
       "    <tr>\n",
       "      <th>2</th>\n",
       "      <td>26E</td>\n",
       "      <td>3</td>\n",
       "      <td>no</td>\n",
       "      <td>RAVI</td>\n",
       "      <td>BANSAL</td>\n",
       "    </tr>\n",
       "    <tr>\n",
       "      <th>3</th>\n",
       "      <td>44 A</td>\n",
       "      <td>1</td>\n",
       "      <td>yes</td>\n",
       "      <td>SAVI</td>\n",
       "      <td>CHOPRA</td>\n",
       "    </tr>\n",
       "    <tr>\n",
       "      <th>4</th>\n",
       "      <td>12</td>\n",
       "      <td>2</td>\n",
       "      <td>yes</td>\n",
       "      <td>NAVI</td>\n",
       "      <td>JINDAL</td>\n",
       "    </tr>\n",
       "  </tbody>\n",
       "</table>\n",
       "</div>"
      ],
      "text/plain": [
       "   code  attempts qualify first_name last_name\n",
       "0   23D         2     yes       KAVI     GUPTA\n",
       "1    41         1      no       MAHI      JAIN\n",
       "2   26E         3      no       RAVI    BANSAL\n",
       "3  44 A         1     yes       SAVI    CHOPRA\n",
       "4    12         2     yes       NAVI    JINDAL"
      ]
     },
     "execution_count": 13,
     "metadata": {},
     "output_type": "execute_result"
    }
   ],
   "source": [
    "#split a string of a column of a given DataFrame into multiple columns.\n",
    "df[['first_name','last_name']]=df['name'].str.split(\" \", expand=True)\n",
    "df.drop(['name'], axis=1)"
   ]
  },
  {
   "cell_type": "code",
   "execution_count": null,
   "metadata": {},
   "outputs": [],
   "source": []
  }
 ],
 "metadata": {
  "kernelspec": {
   "display_name": "Python 3",
   "language": "python",
   "name": "python3"
  },
  "language_info": {
   "codemirror_mode": {
    "name": "ipython",
    "version": 3
   },
   "file_extension": ".py",
   "mimetype": "text/x-python",
   "name": "python",
   "nbconvert_exporter": "python",
   "pygments_lexer": "ipython3",
   "version": "3.8.5"
  }
 },
 "nbformat": 4,
 "nbformat_minor": 4
}
